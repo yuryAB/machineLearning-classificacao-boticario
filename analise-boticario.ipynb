{
 "cells": [
  {
   "cell_type": "markdown",
   "metadata": {},
   "source": [
    "# Recomendação de produtos O Boticario"
   ]
  },
  {
   "cell_type": "markdown",
   "metadata": {},
   "source": [
    "Esse projeto é derivado de um dos desafios da **Maratona Behind the code** da **IBM**, o desafio tem como objetivo recomendar produtos com base em habitos e gostos dos clientes."
   ]
  },
  {
   "cell_type": "markdown",
   "metadata": {},
   "source": [
    "O Dataset usado é o mesmo presente no desafio da maratona. Mais detalhes sobre o desafio original podem ser acessados neste [link](https://maratona.dev/desafios/desafio-4-boticario-inteligencia-artificial-para-recomendacao-do-melhor-presente/)"
   ]
  },
  {
   "cell_type": "code",
   "execution_count": 1,
   "metadata": {},
   "outputs": [],
   "source": [
    "#importando bibliotecas nescessárias\n",
    "import pandas as pd\n",
    "from sklearn.preprocessing import LabelEncoder\n",
    "from sklearn.naive_bayes import GaussianNB\n",
    "from IPython.display import display\n",
    "from ipywidgets import interact\n",
    "import ipywidgets as widgets"
   ]
  },
  {
   "cell_type": "code",
   "execution_count": 2,
   "metadata": {},
   "outputs": [
    {
     "data": {
      "text/html": [
       "<div>\n",
       "<style scoped>\n",
       "    .dataframe tbody tr th:only-of-type {\n",
       "        vertical-align: middle;\n",
       "    }\n",
       "\n",
       "    .dataframe tbody tr th {\n",
       "        vertical-align: top;\n",
       "    }\n",
       "\n",
       "    .dataframe thead th {\n",
       "        text-align: right;\n",
       "    }\n",
       "</style>\n",
       "<table border=\"1\" class=\"dataframe\">\n",
       "  <thead>\n",
       "    <tr style=\"text-align: right;\">\n",
       "      <th></th>\n",
       "      <th>genero</th>\n",
       "      <th>hobby</th>\n",
       "      <th>viagem</th>\n",
       "      <th>bebida</th>\n",
       "      <th>produto</th>\n",
       "    </tr>\n",
       "  </thead>\n",
       "  <tbody>\n",
       "    <tr>\n",
       "      <th>0</th>\n",
       "      <td>n</td>\n",
       "      <td>netflix</td>\n",
       "      <td>campo</td>\n",
       "      <td>suco_detox</td>\n",
       "      <td>boticollection_boticario</td>\n",
       "    </tr>\n",
       "    <tr>\n",
       "      <th>1</th>\n",
       "      <td>n</td>\n",
       "      <td>balada</td>\n",
       "      <td>praia</td>\n",
       "      <td>suco_detox</td>\n",
       "      <td>nativaspa_boticario</td>\n",
       "    </tr>\n",
       "    <tr>\n",
       "      <th>2</th>\n",
       "      <td>n</td>\n",
       "      <td>museu</td>\n",
       "      <td>praia</td>\n",
       "      <td>café</td>\n",
       "      <td>impression_eudora</td>\n",
       "    </tr>\n",
       "    <tr>\n",
       "      <th>3</th>\n",
       "      <td>f</td>\n",
       "      <td>parque</td>\n",
       "      <td>campo</td>\n",
       "      <td>suco_detox</td>\n",
       "      <td>boticollection_boticario</td>\n",
       "    </tr>\n",
       "    <tr>\n",
       "      <th>4</th>\n",
       "      <td>f</td>\n",
       "      <td>netflix</td>\n",
       "      <td>praia</td>\n",
       "      <td>milk_shake</td>\n",
       "      <td>batom_liquido_mate_quemdisseberenice</td>\n",
       "    </tr>\n",
       "  </tbody>\n",
       "</table>\n",
       "</div>"
      ],
      "text/plain": [
       "  genero    hobby viagem      bebida                               produto\n",
       "0      n  netflix  campo  suco_detox              boticollection_boticario\n",
       "1      n   balada  praia  suco_detox                   nativaspa_boticario\n",
       "2      n    museu  praia        café                     impression_eudora\n",
       "3      f   parque  campo  suco_detox              boticollection_boticario\n",
       "4      f  netflix  praia  milk_shake  batom_liquido_mate_quemdisseberenice"
      ]
     },
     "execution_count": 2,
     "metadata": {},
     "output_type": "execute_result"
    }
   ],
   "source": [
    "#Lendo o dataset\n",
    "data = pd.read_csv('assets/dataset.csv')\n",
    "\n",
    "#Breve visualização do dataset\n",
    "data.head()\n",
    "#as cinco primeiras amostras"
   ]
  },
  {
   "cell_type": "markdown",
   "metadata": {},
   "source": [
    "Separando a base de dados em dados de **Entrada (previsores)** e dados de **Saida (classes)**"
   ]
  },
  {
   "cell_type": "code",
   "execution_count": 3,
   "metadata": {},
   "outputs": [],
   "source": [
    "#entrada recebe o conteudo de data(base de dados) e saída recebe a coluna 'produto' da base de dados\n",
    "entrada,saida = data,data['produto']\n",
    "\n",
    "#no momento a entrada possue os mesmos valores da base de dados, por isso é excluida a coluna 'produto'\n",
    "# par que permanessa apenas os dados de entrada\n",
    "entrada = entrada.drop(['produto'],axis=1)"
   ]
  },
  {
   "cell_type": "markdown",
   "metadata": {},
   "source": [
    "O algoritmo escolido para a predição foi o **Naive Bayes**, uma caracteristica comum nos algoritmos de machine learning é que eles fazem a leitura da entrada com dados numéricos, dessa forma uma base de dados que possue dados categóricos deve ser convertida. A biblioteca **scikit-learn** possue o método **LabelEncoder** que desempenha essa função"
   ]
  },
  {
   "cell_type": "code",
   "execution_count": 4,
   "metadata": {},
   "outputs": [
    {
     "data": {
      "text/html": [
       "<div>\n",
       "<style scoped>\n",
       "    .dataframe tbody tr th:only-of-type {\n",
       "        vertical-align: middle;\n",
       "    }\n",
       "\n",
       "    .dataframe tbody tr th {\n",
       "        vertical-align: top;\n",
       "    }\n",
       "\n",
       "    .dataframe thead th {\n",
       "        text-align: right;\n",
       "    }\n",
       "</style>\n",
       "<table border=\"1\" class=\"dataframe\">\n",
       "  <thead>\n",
       "    <tr style=\"text-align: right;\">\n",
       "      <th></th>\n",
       "      <th>genero</th>\n",
       "      <th>hobby</th>\n",
       "      <th>viagem</th>\n",
       "      <th>bebida</th>\n",
       "    </tr>\n",
       "  </thead>\n",
       "  <tbody>\n",
       "    <tr>\n",
       "      <th>0</th>\n",
       "      <td>2</td>\n",
       "      <td>3</td>\n",
       "      <td>0</td>\n",
       "      <td>3</td>\n",
       "    </tr>\n",
       "    <tr>\n",
       "      <th>1</th>\n",
       "      <td>2</td>\n",
       "      <td>0</td>\n",
       "      <td>3</td>\n",
       "      <td>3</td>\n",
       "    </tr>\n",
       "  </tbody>\n",
       "</table>\n",
       "</div>"
      ],
      "text/plain": [
       "   genero  hobby  viagem  bebida\n",
       "0       2      3       0       3\n",
       "1       2      0       3       3"
      ]
     },
     "execution_count": 4,
     "metadata": {},
     "output_type": "execute_result"
    }
   ],
   "source": [
    "#convertendo os dados de entrada categóricos para dados numéricos\n",
    "g_encoder = LabelEncoder()\n",
    "h_encoder = LabelEncoder()\n",
    "v_encoder = LabelEncoder()\n",
    "b_encoder = LabelEncoder()\n",
    "entrada['genero'] = g_encoder.fit_transform(entrada['genero'])\n",
    "entrada['hobby'] = h_encoder.fit_transform(entrada['hobby'])\n",
    "entrada['viagem'] = v_encoder.fit_transform(entrada['viagem'])\n",
    "entrada['bebida'] = b_encoder.fit_transform(entrada['bebida'])\n",
    "entrada.head(2)"
   ]
  },
  {
   "cell_type": "code",
   "execution_count": 5,
   "metadata": {},
   "outputs": [
    {
     "data": {
      "text/plain": [
       "GaussianNB(priors=None, var_smoothing=1e-09)"
      ]
     },
     "execution_count": 5,
     "metadata": {},
     "output_type": "execute_result"
    }
   ],
   "source": [
    "# treinadno modelo\n",
    "classificador = GaussianNB()\n",
    "classificador.fit(entrada,saida)"
   ]
  },
  {
   "cell_type": "code",
   "execution_count": 6,
   "metadata": {},
   "outputs": [
    {
     "data": {
      "application/vnd.jupyter.widget-view+json": {
       "model_id": "e897d84c198945938c88c6ef2ee9f6c7",
       "version_major": 2,
       "version_minor": 0
      },
      "text/plain": [
       "Dropdown(description='Genero: ', options=(('n', 2), ('m', 1), ('f', 0)), value=2)"
      ]
     },
     "metadata": {},
     "output_type": "display_data"
    },
    {
     "data": {
      "application/vnd.jupyter.widget-view+json": {
       "model_id": "398c847d84d2405b90c1c31388418b33",
       "version_major": 2,
       "version_minor": 0
      },
      "text/plain": [
       "Dropdown(description='Hobby: ', options=(('balada', 0), ('bar', 1), ('museu', 2), ('netflix', 3), ('parque', 4…"
      ]
     },
     "metadata": {},
     "output_type": "display_data"
    },
    {
     "data": {
      "application/vnd.jupyter.widget-view+json": {
       "model_id": "32db0f3c15334f33b25a1365e5bd186f",
       "version_major": 2,
       "version_minor": 0
      },
      "text/plain": [
       "Dropdown(description='Viagem: ', options=(('campo', 0), ('cidade', 1), ('floresta', 2), ('praia', 3)), value=0…"
      ]
     },
     "metadata": {},
     "output_type": "display_data"
    },
    {
     "data": {
      "application/vnd.jupyter.widget-view+json": {
       "model_id": "2459592d17464205825e20cc8bb52c26",
       "version_major": 2,
       "version_minor": 0
      },
      "text/plain": [
       "Dropdown(description='Bebida: ', options=(('café', 0), ('chope', 1), ('milk_shake', 2), ('suco_detox', 3), ('v…"
      ]
     },
     "metadata": {},
     "output_type": "display_data"
    },
    {
     "data": {
      "application/vnd.jupyter.widget-view+json": {
       "model_id": "cb312d76c6fd4606ad257531186711c4",
       "version_major": 2,
       "version_minor": 0
      },
      "text/plain": [
       "Image(value=b'\\xff\\xd8\\xff\\xe0\\x00\\x10JFIF\\x00\\x01\\x01\\x00\\x00\\x01\\x00\\x01\\x00\\x00\\xff\\xe1\\x0b\\xd7Exif\\x00\\x00…"
      ]
     },
     "metadata": {},
     "output_type": "display_data"
    }
   ],
   "source": [
    "genero = widgets.Dropdown(\n",
    "        options = [('n',g_encoder.transform(['n'])[0]),\n",
    "                   ('m',g_encoder.transform(['m'])[0]),\n",
    "                   ('f',g_encoder.transform(['f'])[0])\n",
    "                  ],\n",
    "        description = 'Genero: ',\n",
    "        disabled=False,\n",
    "        )\n",
    "hobby = widgets.Dropdown(\n",
    "        options = [('balada',h_encoder.transform(['balada'])[0]), \n",
    "                   ('bar',h_encoder.transform(['bar'])[0]), \n",
    "                   ('museu',h_encoder.transform(['museu'])[0]), \n",
    "                   ('netflix',h_encoder.transform(['netflix'])[0]), \n",
    "                   ('parque',h_encoder.transform(['parque'])[0])\n",
    "                  ],\n",
    "        description = 'Hobby: ',\n",
    "        disabled=False,\n",
    "    )\n",
    "viagem = widgets.Dropdown(\n",
    "        options = [('campo',v_encoder.transform(['campo'])[0]), \n",
    "                   ('cidade',v_encoder.transform(['cidade'])[0]), \n",
    "                   ('floresta',v_encoder.transform(['floresta'])[0]), \n",
    "                   ('praia',v_encoder.transform(['praia'])[0])\n",
    "                  ],\n",
    "        description = 'Viagem: ',\n",
    "        disabled=False,\n",
    "    )\n",
    "bebida = widgets.Dropdown(\n",
    "        options = [('café',b_encoder.transform(['café'])[0]),\n",
    "                   ('chope',b_encoder.transform(['chope'])[0]), \n",
    "                   ('milk_shake',b_encoder.transform(['milk_shake'])[0]), \n",
    "                   ('suco_detox',b_encoder.transform(['suco_detox'])[0]), \n",
    "                   ('vinho',b_encoder.transform(['vinho'])[0])\n",
    "                  ],\n",
    "        description = 'Bebida: ',\n",
    "        disabled=False,\n",
    "    )\n",
    "\n",
    "#resposta = widgets.Text()\n",
    "#resposta.value = 'Sua indicação aqui'\n",
    "\n",
    "file = open(\"assets/o-boticario.jpg\", \"rb\")\n",
    "image = file.read()\n",
    "resposta = widgets.Image(\n",
    "    value=image,\n",
    "    format='jpg',\n",
    "    width=300,\n",
    "    height=400,\n",
    ")\n",
    "\n",
    "def update(change):\n",
    "    entrada = [genero.value,hobby.value,viagem.value,bebida.value]\n",
    "    classe = classificador.predict([entrada])[0]\n",
    "    file = open('assets/'+classe+'.jpg','rb')\n",
    "    image = file.read()\n",
    "    resposta.value = image\n",
    "\n",
    "genero.observe(update,'value')\n",
    "hobby.observe(update,'value')\n",
    "viagem.observe(update,'value')\n",
    "bebida.observe(update,'value')\n",
    "\n",
    "\n",
    "display(genero,hobby,viagem,bebida)\n",
    "display(resposta)"
   ]
  }
 ],
 "metadata": {
  "kernelspec": {
   "display_name": "Python 3",
   "language": "python",
   "name": "python3"
  },
  "language_info": {
   "codemirror_mode": {
    "name": "ipython",
    "version": 3
   },
   "file_extension": ".py",
   "mimetype": "text/x-python",
   "name": "python",
   "nbconvert_exporter": "python",
   "pygments_lexer": "ipython3",
   "version": "3.7.3"
  }
 },
 "nbformat": 4,
 "nbformat_minor": 2
}
